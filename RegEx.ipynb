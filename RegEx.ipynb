{
 "cells": [
  {
   "cell_type": "code",
   "execution_count": 1,
   "id": "ba617771",
   "metadata": {},
   "outputs": [],
   "source": [
    "import re"
   ]
  },
  {
   "cell_type": "code",
   "execution_count": 17,
   "id": "ba86a631",
   "metadata": {},
   "outputs": [],
   "source": [
    "pattern=\"^a$\"\n",
    "crt=re.match(pattern,'avaakav')"
   ]
  },
  {
   "cell_type": "code",
   "execution_count": 18,
   "id": "d5f6c285",
   "metadata": {},
   "outputs": [
    {
     "name": "stdout",
     "output_type": "stream",
     "text": [
      "No\n"
     ]
    }
   ],
   "source": [
    "if crt:\n",
    "    print('Yes')\n",
    "else :\n",
    "    print('No')"
   ]
  },
  {
   "cell_type": "code",
   "execution_count": 28,
   "id": "334c15f2",
   "metadata": {},
   "outputs": [
    {
     "name": "stdout",
     "output_type": "stream",
     "text": [
      "['?', '.']\n",
      "['Hi How are you', ' Good', '']\n"
     ]
    }
   ],
   "source": [
    "my_string=\"Hi How are you? Good.\"\n",
    "print(re.findall(\"[?!.]\",my_string))\n",
    "print(re.split(\"[?!.]\",my_string))"
   ]
  },
  {
   "cell_type": "code",
   "execution_count": null,
   "id": "18d84cf6",
   "metadata": {},
   "outputs": [],
   "source": [
    "re.sub()"
   ]
  },
  {
   "cell_type": "code",
   "execution_count": null,
   "id": "0e3a89b8",
   "metadata": {},
   "outputs": [],
   "source": []
  }
 ],
 "metadata": {
  "kernelspec": {
   "display_name": "Python 3 (ipykernel)",
   "language": "python",
   "name": "python3"
  },
  "language_info": {
   "codemirror_mode": {
    "name": "ipython",
    "version": 3
   },
   "file_extension": ".py",
   "mimetype": "text/x-python",
   "name": "python",
   "nbconvert_exporter": "python",
   "pygments_lexer": "ipython3",
   "version": "3.10.9"
  }
 },
 "nbformat": 4,
 "nbformat_minor": 5
}
