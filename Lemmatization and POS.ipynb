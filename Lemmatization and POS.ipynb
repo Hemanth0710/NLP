{
 "cells": [
  {
   "cell_type": "code",
   "execution_count": 1,
   "id": "3b643892",
   "metadata": {},
   "outputs": [],
   "source": [
    "import spacy "
   ]
  },
  {
   "cell_type": "code",
   "execution_count": 4,
   "id": "8246f527",
   "metadata": {},
   "outputs": [],
   "source": [
    "nlp=spacy.load('en_core_web_md')\n",
    "\n",
    "text='''Special sequences make commonly used patterns easier to write. Here's a list of special sequences.\n",
    "        The above code defines a RegEx pattern. The pattern is: any five letter string starting with a and ending with s.\n",
    "        There are other several functions defined in the re module to work with RegEx. \n",
    "        Before we explore that, let's learn about regular expressions themselves. unnoticed'''\n",
    "\n",
    "doc=nlp(text)\n",
    "\n",
    "lemma = [(token.text,token.lemma_) for token in doc]"
   ]
  },
  {
   "cell_type": "code",
   "execution_count": 5,
   "id": "039f1540",
   "metadata": {},
   "outputs": [
    {
     "data": {
      "text/plain": [
       "[('Special', 'special'),\n",
       " ('sequences', 'sequence'),\n",
       " ('make', 'make'),\n",
       " ('commonly', 'commonly'),\n",
       " ('used', 'use'),\n",
       " ('patterns', 'pattern'),\n",
       " ('easier', 'easy'),\n",
       " ('to', 'to'),\n",
       " ('write', 'write'),\n",
       " ('.', '.'),\n",
       " ('Here', 'here'),\n",
       " (\"'s\", 'be'),\n",
       " ('a', 'a'),\n",
       " ('list', 'list'),\n",
       " ('of', 'of'),\n",
       " ('special', 'special'),\n",
       " ('sequences', 'sequence'),\n",
       " ('.', '.'),\n",
       " ('\\n        ', '\\n        '),\n",
       " ('The', 'the'),\n",
       " ('above', 'above'),\n",
       " ('code', 'code'),\n",
       " ('defines', 'define'),\n",
       " ('a', 'a'),\n",
       " ('RegEx', 'RegEx'),\n",
       " ('pattern', 'pattern'),\n",
       " ('.', '.'),\n",
       " ('The', 'the'),\n",
       " ('pattern', 'pattern'),\n",
       " ('is', 'be'),\n",
       " (':', ':'),\n",
       " ('any', 'any'),\n",
       " ('five', 'five'),\n",
       " ('letter', 'letter'),\n",
       " ('string', 'string'),\n",
       " ('starting', 'start'),\n",
       " ('with', 'with'),\n",
       " ('a', 'a'),\n",
       " ('and', 'and'),\n",
       " ('ending', 'end'),\n",
       " ('with', 'with'),\n",
       " ('s.', 's.'),\n",
       " ('\\n        ', '\\n        '),\n",
       " ('There', 'there'),\n",
       " ('are', 'be'),\n",
       " ('other', 'other'),\n",
       " ('several', 'several'),\n",
       " ('functions', 'function'),\n",
       " ('defined', 'define'),\n",
       " ('in', 'in'),\n",
       " ('the', 'the'),\n",
       " ('re', 're'),\n",
       " ('module', 'module'),\n",
       " ('to', 'to'),\n",
       " ('work', 'work'),\n",
       " ('with', 'with'),\n",
       " ('RegEx', 'RegEx'),\n",
       " ('.', '.'),\n",
       " ('\\n        ', '\\n        '),\n",
       " ('Before', 'before'),\n",
       " ('we', 'we'),\n",
       " ('explore', 'explore'),\n",
       " ('that', 'that'),\n",
       " (',', ','),\n",
       " ('let', 'let'),\n",
       " (\"'s\", 'us'),\n",
       " ('learn', 'learn'),\n",
       " ('about', 'about'),\n",
       " ('regular', 'regular'),\n",
       " ('expressions', 'expression'),\n",
       " ('themselves', 'themselves'),\n",
       " ('.', '.'),\n",
       " ('unnoticed', 'unnoticed')]"
      ]
     },
     "execution_count": 5,
     "metadata": {},
     "output_type": "execute_result"
    }
   ],
   "source": [
    "lemma"
   ]
  },
  {
   "cell_type": "markdown",
   "id": "1b043d44",
   "metadata": {},
   "source": [
    "##### POS Tagging"
   ]
  },
  {
   "cell_type": "code",
   "execution_count": 17,
   "id": "36b01428",
   "metadata": {},
   "outputs": [],
   "source": [
    "pos=[(token.text,token.pos_,spacy.explain(token.pos_)) for token in doc]"
   ]
  },
  {
   "cell_type": "code",
   "execution_count": 18,
   "id": "d9cfdd58",
   "metadata": {},
   "outputs": [
    {
     "data": {
      "text/plain": [
       "[('Special', 'ADJ', 'adjective'),\n",
       " ('sequences', 'NOUN', 'noun'),\n",
       " ('make', 'VERB', 'verb'),\n",
       " ('commonly', 'ADV', 'adverb'),\n",
       " ('used', 'VERB', 'verb'),\n",
       " ('patterns', 'NOUN', 'noun'),\n",
       " ('easier', 'ADJ', 'adjective'),\n",
       " ('to', 'PART', 'particle'),\n",
       " ('write', 'VERB', 'verb'),\n",
       " ('.', 'PUNCT', 'punctuation'),\n",
       " ('Here', 'ADV', 'adverb'),\n",
       " (\"'s\", 'AUX', 'auxiliary'),\n",
       " ('a', 'DET', 'determiner'),\n",
       " ('list', 'NOUN', 'noun'),\n",
       " ('of', 'ADP', 'adposition'),\n",
       " ('special', 'ADJ', 'adjective'),\n",
       " ('sequences', 'NOUN', 'noun'),\n",
       " ('.', 'PUNCT', 'punctuation'),\n",
       " ('\\n        ', 'SPACE', 'space'),\n",
       " ('The', 'DET', 'determiner'),\n",
       " ('above', 'ADJ', 'adjective'),\n",
       " ('code', 'NOUN', 'noun'),\n",
       " ('defines', 'VERB', 'verb'),\n",
       " ('a', 'DET', 'determiner'),\n",
       " ('RegEx', 'PROPN', 'proper noun'),\n",
       " ('pattern', 'NOUN', 'noun'),\n",
       " ('.', 'PUNCT', 'punctuation'),\n",
       " ('The', 'DET', 'determiner'),\n",
       " ('pattern', 'NOUN', 'noun'),\n",
       " ('is', 'AUX', 'auxiliary'),\n",
       " (':', 'PUNCT', 'punctuation'),\n",
       " ('any', 'DET', 'determiner'),\n",
       " ('five', 'NUM', 'numeral'),\n",
       " ('letter', 'NOUN', 'noun'),\n",
       " ('string', 'NOUN', 'noun'),\n",
       " ('starting', 'VERB', 'verb'),\n",
       " ('with', 'ADP', 'adposition'),\n",
       " ('a', 'PRON', 'pronoun'),\n",
       " ('and', 'CCONJ', 'coordinating conjunction'),\n",
       " ('ending', 'VERB', 'verb'),\n",
       " ('with', 'ADP', 'adposition'),\n",
       " ('s.', 'PROPN', 'proper noun'),\n",
       " ('\\n        ', 'SPACE', 'space'),\n",
       " ('There', 'PRON', 'pronoun'),\n",
       " ('are', 'VERB', 'verb'),\n",
       " ('other', 'ADJ', 'adjective'),\n",
       " ('several', 'ADJ', 'adjective'),\n",
       " ('functions', 'NOUN', 'noun'),\n",
       " ('defined', 'VERB', 'verb'),\n",
       " ('in', 'ADP', 'adposition'),\n",
       " ('the', 'DET', 'determiner'),\n",
       " ('re', 'ADJ', 'adjective'),\n",
       " ('module', 'NOUN', 'noun'),\n",
       " ('to', 'PART', 'particle'),\n",
       " ('work', 'VERB', 'verb'),\n",
       " ('with', 'ADP', 'adposition'),\n",
       " ('RegEx', 'PROPN', 'proper noun'),\n",
       " ('.', 'PUNCT', 'punctuation'),\n",
       " ('\\n        ', 'SPACE', 'space'),\n",
       " ('Before', 'SCONJ', 'subordinating conjunction'),\n",
       " ('we', 'PRON', 'pronoun'),\n",
       " ('explore', 'VERB', 'verb'),\n",
       " ('that', 'PRON', 'pronoun'),\n",
       " (',', 'PUNCT', 'punctuation'),\n",
       " ('let', 'VERB', 'verb'),\n",
       " (\"'s\", 'PRON', 'pronoun'),\n",
       " ('learn', 'VERB', 'verb'),\n",
       " ('about', 'ADP', 'adposition'),\n",
       " ('regular', 'ADJ', 'adjective'),\n",
       " ('expressions', 'NOUN', 'noun'),\n",
       " ('themselves', 'PRON', 'pronoun'),\n",
       " ('.', 'PUNCT', 'punctuation')]"
      ]
     },
     "execution_count": 18,
     "metadata": {},
     "output_type": "execute_result"
    }
   ],
   "source": [
    "pos"
   ]
  },
  {
   "cell_type": "markdown",
   "id": "9ad66367",
   "metadata": {},
   "source": [
    "##### NER"
   ]
  },
  {
   "cell_type": "code",
   "execution_count": 19,
   "id": "32c9cd58",
   "metadata": {},
   "outputs": [
    {
     "data": {
      "text/plain": [
       "[('five', 167, 171, 'CARDINAL')]"
      ]
     },
     "execution_count": 19,
     "metadata": {},
     "output_type": "execute_result"
    }
   ],
   "source": [
    "[(ent.text,ent.start_char,ent.end_char,ent.label_) for ent in doc.ents]"
   ]
  },
  {
   "cell_type": "code",
   "execution_count": 20,
   "id": "4908ccec",
   "metadata": {},
   "outputs": [],
   "source": [
    "sentences=[sent for sent in doc.sents]"
   ]
  },
  {
   "cell_type": "code",
   "execution_count": 21,
   "id": "1bde225a",
   "metadata": {
    "scrolled": true
   },
   "outputs": [
    {
     "data": {
      "text/plain": [
       "[Special sequences make commonly used patterns easier to write.,\n",
       " Here's a list of special sequences.\n",
       "         ,\n",
       " The above code defines a RegEx pattern.,\n",
       " The pattern is: any five letter string starting with a and ending with s.\n",
       "         There are other several functions defined in the re module to work with RegEx. \n",
       "         ,\n",
       " Before we explore that, let's learn about regular expressions themselves.]"
      ]
     },
     "execution_count": 21,
     "metadata": {},
     "output_type": "execute_result"
    }
   ],
   "source": [
    "sentences"
   ]
  },
  {
   "cell_type": "code",
   "execution_count": 22,
   "id": "afebaeb4",
   "metadata": {
    "scrolled": true
   },
   "outputs": [
    {
     "name": "stdout",
     "output_type": "stream",
     "text": [
      "[]\n",
      "[]\n",
      "[]\n",
      "[('five', 167, 171, 'CARDINAL')]\n",
      "[]\n"
     ]
    }
   ],
   "source": [
    "for sent in sentences:\n",
    "    print([(ent.text,ent.start_char,ent.end_char,ent.label_) for ent in sent.ents])"
   ]
  },
  {
   "cell_type": "code",
   "execution_count": 23,
   "id": "fe5f8e14",
   "metadata": {
    "scrolled": true
   },
   "outputs": [
    {
     "name": "stdout",
     "output_type": "stream",
     "text": [
      "[('Special', ''), ('sequences', ''), ('make', ''), ('commonly', ''), ('used', ''), ('patterns', ''), ('easier', ''), ('to', ''), ('write', ''), ('.', ''), ('Here', ''), (\"'s\", ''), ('a', ''), ('list', ''), ('of', ''), ('special', ''), ('sequences', ''), ('.', ''), ('\\n        ', ''), ('The', ''), ('above', ''), ('code', ''), ('defines', ''), ('a', ''), ('RegEx', ''), ('pattern', ''), ('.', ''), ('The', ''), ('pattern', ''), ('is', ''), (':', ''), ('any', ''), ('five', 'CARDINAL'), ('letter', ''), ('string', ''), ('starting', ''), ('with', ''), ('a', ''), ('and', ''), ('ending', ''), ('with', ''), ('s.', ''), ('\\n        ', ''), ('There', ''), ('are', ''), ('other', ''), ('several', ''), ('functions', ''), ('defined', ''), ('in', ''), ('the', ''), ('re', ''), ('module', ''), ('to', ''), ('work', ''), ('with', ''), ('RegEx', ''), ('.', ''), ('\\n        ', ''), ('Before', ''), ('we', ''), ('explore', ''), ('that', ''), (',', ''), ('let', ''), (\"'s\", ''), ('learn', ''), ('about', ''), ('regular', ''), ('expressions', ''), ('themselves', ''), ('.', '')]\n"
     ]
    }
   ],
   "source": [
    "print([(token.text,token.ent_type_) for token in doc])"
   ]
  },
  {
   "cell_type": "code",
   "execution_count": 24,
   "id": "fb06d853",
   "metadata": {},
   "outputs": [
    {
     "name": "stdout",
     "output_type": "stream",
     "text": [
      "[('I', 'PRON', 'pronoun'), ('watch', 'VERB', 'verb'), ('movie', 'NOUN', 'noun'), ('.', 'PUNCT', 'punctuation'), ('I', 'PRON', 'pronoun'), ('wear', 'VERB', 'verb'), ('a', 'DET', 'determiner'), ('watch', 'NOUN', 'noun'), ('everday', 'NOUN', 'noun')]\n"
     ]
    }
   ],
   "source": [
    "text1=\"I watch movie. I wear a watch everday\"\n",
    "\n",
    "doc=nlp(text1)\n",
    "\n",
    "print([(token.text,token.pos_,spacy.explain(token.pos_)) for token in doc])"
   ]
  },
  {
   "cell_type": "code",
   "execution_count": null,
   "id": "8e4132d9",
   "metadata": {},
   "outputs": [],
   "source": []
  },
  {
   "cell_type": "code",
   "execution_count": null,
   "id": "d15b1262",
   "metadata": {},
   "outputs": [],
   "source": []
  }
 ],
 "metadata": {
  "kernelspec": {
   "display_name": "Python 3 (ipykernel)",
   "language": "python",
   "name": "python3"
  },
  "language_info": {
   "codemirror_mode": {
    "name": "ipython",
    "version": 3
   },
   "file_extension": ".py",
   "mimetype": "text/x-python",
   "name": "python",
   "nbconvert_exporter": "python",
   "pygments_lexer": "ipython3",
   "version": "3.10.9"
  }
 },
 "nbformat": 4,
 "nbformat_minor": 5
}
