{
 "cells": [
  {
   "cell_type": "code",
   "execution_count": 61,
   "id": "35a0f921",
   "metadata": {},
   "outputs": [],
   "source": [
    "from gensim.models import Word2Vec\n",
    "import spacy\n",
    "nlp=spacy.load(\"en_core_web_md\")"
   ]
  },
  {
   "cell_type": "code",
   "execution_count": 44,
   "id": "a4d90544",
   "metadata": {},
   "outputs": [],
   "source": [
    "corpus=\"Everyone knows that paper is made from trees. But when one looks at trees, one cannot imagine that something so soft and fragile as the paper is made is so hard and strong. Plant materials such as wood are made of fibres known as cellulose. It is the primary ingredient in paper making. Raw wood is first converted into pulp consisting of a mixture of Cellulose, lignin, water and some chemicals. The pulp can be made mechanically through grinders or through chemical processes. Short fibres are produced by mechanical grinding. The paper produced in this way is weak and is used to make newspapers, magazines and phonebooks.\""
   ]
  },
  {
   "cell_type": "code",
   "execution_count": 40,
   "id": "56d2c64b",
   "metadata": {},
   "outputs": [],
   "source": [
    "doc=nlp(corpus)"
   ]
  },
  {
   "cell_type": "code",
   "execution_count": 45,
   "id": "18f4aba1",
   "metadata": {},
   "outputs": [
    {
     "data": {
      "text/plain": [
       "Everyone knows that paper is made from trees. But when one looks at trees, one cannot imagine that something so soft and fragile as the paper is made is so hard and strong. Plant materials such as wood are made of fibres known as cellulose. It is the primary ingredient in paper making. Raw wood is first converted into pulp consisting of a mixture of Cellulose, lignin, water and some chemicals. The pulp can be made mechanically through grinders or through chemical processes. Short fibres are produced by mechanical grinding. The paper produced in this way is weak and is used to make newspapers, magazines and phonebooks."
      ]
     },
     "execution_count": 45,
     "metadata": {},
     "output_type": "execute_result"
    }
   ],
   "source": [
    "doc"
   ]
  },
  {
   "cell_type": "code",
   "execution_count": 54,
   "id": "5fb90d4d",
   "metadata": {},
   "outputs": [],
   "source": [
    "sent=[\" \".join(token.lemma_ for token in nlp(corpus) if not token.is_punct and not token.is_stop and not token.is_currency\n",
    "              and not token.is_digit\n",
    "              and not token.is_oov\n",
    "              and not token.is_space\n",
    "              and not token.like_num\n",
    "              and not token.pos_ == \"PROPN\")]"
   ]
  },
  {
   "cell_type": "code",
   "execution_count": 58,
   "id": "ca36be93",
   "metadata": {},
   "outputs": [],
   "source": [
    "sent=[token.text for token in nlp(sent[0])]"
   ]
  },
  {
   "cell_type": "code",
   "execution_count": 62,
   "id": "00e1f3ad",
   "metadata": {},
   "outputs": [],
   "source": [
    "model=Word2Vec(sent,min_count=1)"
   ]
  },
  {
   "cell_type": "code",
   "execution_count": 64,
   "id": "d7e402e5",
   "metadata": {},
   "outputs": [
    {
     "data": {
      "text/plain": [
       "{'e': 0,\n",
       " 'r': 1,\n",
       " 'a': 2,\n",
       " 'o': 3,\n",
       " 'p': 4,\n",
       " 'i': 5,\n",
       " 'n': 6,\n",
       " 'c': 7,\n",
       " 'l': 8,\n",
       " 't': 9,\n",
       " 'm': 10,\n",
       " 'w': 11,\n",
       " 's': 12,\n",
       " 'g': 13,\n",
       " 'd': 14,\n",
       " 'h': 15,\n",
       " 'k': 16,\n",
       " 'u': 17,\n",
       " 'f': 18,\n",
       " 'b': 19,\n",
       " 'y': 20,\n",
       " 'x': 21,\n",
       " 'v': 22,\n",
       " 'z': 23}"
      ]
     },
     "execution_count": 64,
     "metadata": {},
     "output_type": "execute_result"
    }
   ],
   "source": [
    "model.wv.key_to_index"
   ]
  },
  {
   "cell_type": "code",
   "execution_count": 70,
   "id": "90bb12be",
   "metadata": {},
   "outputs": [],
   "source": [
    "import nltk\n",
    "\n",
    "from gensim.models import Word2Vec\n",
    "from nltk.corpus import stopwords\n",
    "\n",
    "import re\n",
    "\n",
    "paragraph = \"\"\"I have three visions for India. In 3000 years of our history, people from all over \n",
    "               the world have come and invaded us, captured our lands, conquered our minds. \n",
    "               From Alexander onwards, the Greeks, the Turks, the Moguls, the Portuguese, the British,\n",
    "               the French, the Dutch, all of them came and looted us, took over what was ours. \n",
    "               Yet we have not done this to any other nation. We have not conquered anyone. \n",
    "               We have not grabbed their land, their culture, \n",
    "               their history and tried to enforce our way of life on them. \n",
    "               Why? Because we respect the freedom of others.That is why my \n",
    "               first vision is that of freedom. I believe that India got its first vision of \n",
    "               this in 1857, when we started the War of Independence. It is this freedom that\n",
    "               we must protect and nurture and build on. If we are not free, no one will respect us.\n",
    "               My second vision for India’s development. For fifty years we have been a developing nation.\n",
    "               It is time we see ourselves as a developed nation. We are among the top 5 nations of the world\n",
    "               in terms of GDP. We have a 10 percent growth rate in most areas. Our poverty levels are falling.\n",
    "               Our achievements are being globally recognised today. Yet we lack the self-confidence to\n",
    "               see ourselves as a developed nation, self-reliant and self-assured. Isn’t this incorrect?\n",
    "               I have a third vision. India must stand up to the world. Because I believe that unless India \n",
    "               stands up to the world, no one will respect us. Only strength respects strength. We must be \n",
    "               strong not only as a military power but also as an economic power. Both must go hand-in-hand. \n",
    "               My good fortune was to have worked with three great minds. Dr. Vikram Sarabhai of the Dept. of \n",
    "               space, Professor Satish Dhawan, who succeeded him and Dr. Brahm Prakash, father of nuclear material.\n",
    "               I was lucky to have worked with all three of them closely and consider this the great opportunity of my life. \n",
    "               I see four milestones in my career\"\"\"\n",
    "\n",
    "\n",
    "\n",
    "# Preprocessing the data\n",
    "text = re.sub(r'\\[[0-9]*\\]',' ',paragraph)\n",
    "text = re.sub(r'\\s+',' ',text)\n",
    "text = text.lower()\n",
    "text = re.sub(r'\\d',' ',text)\n",
    "text = re.sub(r'\\s+',' ',text)\n",
    "\n",
    "# Preparing the dataset\n",
    "sentences = nltk.sent_tokenize(text)"
   ]
  },
  {
   "cell_type": "code",
   "execution_count": 71,
   "id": "40f4a654",
   "metadata": {},
   "outputs": [
    {
     "data": {
      "text/plain": [
       "['i have three visions for india.',\n",
       " 'in years of our history, people from all over the world have come and invaded us, captured our lands, conquered our minds.',\n",
       " 'from alexander onwards, the greeks, the turks, the moguls, the portuguese, the british, the french, the dutch, all of them came and looted us, took over what was ours.',\n",
       " 'yet we have not done this to any other nation.',\n",
       " 'we have not conquered anyone.',\n",
       " 'we have not grabbed their land, their culture, their history and tried to enforce our way of life on them.',\n",
       " 'why?',\n",
       " 'because we respect the freedom of others.that is why my first vision is that of freedom.',\n",
       " 'i believe that india got its first vision of this in , when we started the war of independence.',\n",
       " 'it is this freedom that we must protect and nurture and build on.',\n",
       " 'if we are not free, no one will respect us.',\n",
       " 'my second vision for india’s development.',\n",
       " 'for fifty years we have been a developing nation.',\n",
       " 'it is time we see ourselves as a developed nation.',\n",
       " 'we are among the top nations of the world in terms of gdp.',\n",
       " 'we have a percent growth rate in most areas.',\n",
       " 'our poverty levels are falling.',\n",
       " 'our achievements are being globally recognised today.',\n",
       " 'yet we lack the self-confidence to see ourselves as a developed nation, self-reliant and self-assured.',\n",
       " 'isn’t this incorrect?',\n",
       " 'i have a third vision.',\n",
       " 'india must stand up to the world.',\n",
       " 'because i believe that unless india stands up to the world, no one will respect us.',\n",
       " 'only strength respects strength.',\n",
       " 'we must be strong not only as a military power but also as an economic power.',\n",
       " 'both must go hand-in-hand.',\n",
       " 'my good fortune was to have worked with three great minds.',\n",
       " 'dr. vikram sarabhai of the dept.',\n",
       " 'of space, professor satish dhawan, who succeeded him and dr. brahm prakash, father of nuclear material.',\n",
       " 'i was lucky to have worked with all three of them closely and consider this the great opportunity of my life.',\n",
       " 'i see four milestones in my career']"
      ]
     },
     "execution_count": 71,
     "metadata": {},
     "output_type": "execute_result"
    }
   ],
   "source": [
    "sentences"
   ]
  },
  {
   "cell_type": "code",
   "execution_count": 72,
   "id": "9a7a0651",
   "metadata": {
    "scrolled": false
   },
   "outputs": [],
   "source": [
    "sentences = [nltk.word_tokenize(sentence) for sentence in sentences]"
   ]
  },
  {
   "cell_type": "code",
   "execution_count": 74,
   "id": "0e64cfed",
   "metadata": {},
   "outputs": [
    {
     "name": "stdout",
     "output_type": "stream",
     "text": [
      "[['i', 'have', 'three', 'visions', 'for', 'india', '.'], ['in', 'years', 'of', 'our', 'history', ',', 'people', 'from', 'all', 'over', 'the', 'world', 'have', 'come', 'and', 'invaded', 'us', ',', 'captured', 'our', 'lands', ',', 'conquered', 'our', 'minds', '.'], ['from', 'alexander', 'onwards', ',', 'the', 'greeks', ',', 'the', 'turks', ',', 'the', 'moguls', ',', 'the', 'portuguese', ',', 'the', 'british', ',', 'the', 'french', ',', 'the', 'dutch', ',', 'all', 'of', 'them', 'came', 'and', 'looted', 'us', ',', 'took', 'over', 'what', 'was', 'ours', '.'], ['yet', 'we', 'have', 'not', 'done', 'this', 'to', 'any', 'other', 'nation', '.'], ['we', 'have', 'not', 'conquered', 'anyone', '.'], ['we', 'have', 'not', 'grabbed', 'their', 'land', ',', 'their', 'culture', ',', 'their', 'history', 'and', 'tried', 'to', 'enforce', 'our', 'way', 'of', 'life', 'on', 'them', '.'], ['why', '?'], ['because', 'we', 'respect', 'the', 'freedom', 'of', 'others.that', 'is', 'why', 'my', 'first', 'vision', 'is', 'that', 'of', 'freedom', '.'], ['i', 'believe', 'that', 'india', 'got', 'its', 'first', 'vision', 'of', 'this', 'in', ',', 'when', 'we', 'started', 'the', 'war', 'of', 'independence', '.'], ['it', 'is', 'this', 'freedom', 'that', 'we', 'must', 'protect', 'and', 'nurture', 'and', 'build', 'on', '.'], ['if', 'we', 'are', 'not', 'free', ',', 'no', 'one', 'will', 'respect', 'us', '.'], ['my', 'second', 'vision', 'for', 'india', '’', 's', 'development', '.'], ['for', 'fifty', 'years', 'we', 'have', 'been', 'a', 'developing', 'nation', '.'], ['it', 'is', 'time', 'we', 'see', 'ourselves', 'as', 'a', 'developed', 'nation', '.'], ['we', 'are', 'among', 'the', 'top', 'nations', 'of', 'the', 'world', 'in', 'terms', 'of', 'gdp', '.'], ['we', 'have', 'a', 'percent', 'growth', 'rate', 'in', 'most', 'areas', '.'], ['our', 'poverty', 'levels', 'are', 'falling', '.'], ['our', 'achievements', 'are', 'being', 'globally', 'recognised', 'today', '.'], ['yet', 'we', 'lack', 'the', 'self-confidence', 'to', 'see', 'ourselves', 'as', 'a', 'developed', 'nation', ',', 'self-reliant', 'and', 'self-assured', '.'], ['isn', '’', 't', 'this', 'incorrect', '?'], ['i', 'have', 'a', 'third', 'vision', '.'], ['india', 'must', 'stand', 'up', 'to', 'the', 'world', '.'], ['because', 'i', 'believe', 'that', 'unless', 'india', 'stands', 'up', 'to', 'the', 'world', ',', 'no', 'one', 'will', 'respect', 'us', '.'], ['only', 'strength', 'respects', 'strength', '.'], ['we', 'must', 'be', 'strong', 'not', 'only', 'as', 'a', 'military', 'power', 'but', 'also', 'as', 'an', 'economic', 'power', '.'], ['both', 'must', 'go', 'hand-in-hand', '.'], ['my', 'good', 'fortune', 'was', 'to', 'have', 'worked', 'with', 'three', 'great', 'minds', '.'], ['dr.', 'vikram', 'sarabhai', 'of', 'the', 'dept', '.'], ['of', 'space', ',', 'professor', 'satish', 'dhawan', ',', 'who', 'succeeded', 'him', 'and', 'dr.', 'brahm', 'prakash', ',', 'father', 'of', 'nuclear', 'material', '.'], ['i', 'was', 'lucky', 'to', 'have', 'worked', 'with', 'all', 'three', 'of', 'them', 'closely', 'and', 'consider', 'this', 'the', 'great', 'opportunity', 'of', 'my', 'life', '.'], ['i', 'see', 'four', 'milestones', 'in', 'my', 'career']]\n"
     ]
    }
   ],
   "source": [
    "print(sentences)"
   ]
  },
  {
   "cell_type": "code",
   "execution_count": 76,
   "id": "cb81a3f7",
   "metadata": {},
   "outputs": [],
   "source": [
    "\n",
    "\n",
    "for i in range(len(sentences)):\n",
    "    sentences[i] = [word for word in sentences[i] if word not in stopwords.words('english')]\n",
    "    \n",
    "    \n",
    "# Training the Word2Vec model\n",
    "model = Word2Vec(sentences, min_count=1)\n",
    "\n",
    "\n",
    "words = model.wv.key_to_index\n"
   ]
  },
  {
   "cell_type": "code",
   "execution_count": 77,
   "id": "9ab652fb",
   "metadata": {},
   "outputs": [
    {
     "data": {
      "text/plain": [
       "{'.': 0,\n",
       " ',': 1,\n",
       " 'india': 2,\n",
       " 'vision': 3,\n",
       " 'must': 4,\n",
       " 'nation': 5,\n",
       " 'world': 6,\n",
       " 'us': 7,\n",
       " 'three': 8,\n",
       " 'freedom': 9,\n",
       " 'respect': 10,\n",
       " 'see': 11,\n",
       " 'first': 12,\n",
       " 'power': 13,\n",
       " 'yet': 14,\n",
       " '’': 15,\n",
       " 'strength': 16,\n",
       " 'worked': 17,\n",
       " '?': 18,\n",
       " 'life': 19,\n",
       " 'believe': 20,\n",
       " 'dr.': 21,\n",
       " 'great': 22,\n",
       " 'minds': 23,\n",
       " 'one': 24,\n",
       " 'years': 25,\n",
       " 'history': 26,\n",
       " 'developed': 27,\n",
       " 'conquered': 28,\n",
       " 'protect': 29,\n",
       " 'others.that': 30,\n",
       " 'war': 31,\n",
       " 'nurture': 32,\n",
       " 'independence': 33,\n",
       " 'build': 34,\n",
       " 'free': 35,\n",
       " 'tried': 36,\n",
       " 'got': 37,\n",
       " 'started': 38,\n",
       " 'way': 39,\n",
       " 'enforce': 40,\n",
       " 'took': 41,\n",
       " 'culture': 42,\n",
       " 'turks': 43,\n",
       " 'visions': 44,\n",
       " 'people': 45,\n",
       " 'come': 46,\n",
       " 'invaded': 47,\n",
       " 'captured': 48,\n",
       " 'lands': 49,\n",
       " 'alexander': 50,\n",
       " 'onwards': 51,\n",
       " 'greeks': 52,\n",
       " 'moguls': 53,\n",
       " 'land': 54,\n",
       " 'portuguese': 55,\n",
       " 'british': 56,\n",
       " 'french': 57,\n",
       " 'dutch': 58,\n",
       " 'came': 59,\n",
       " 'looted': 60,\n",
       " 'done': 61,\n",
       " 'anyone': 62,\n",
       " 'grabbed': 63,\n",
       " 'second': 64,\n",
       " 'career': 65,\n",
       " 'development': 66,\n",
       " 'respects': 67,\n",
       " 'military': 68,\n",
       " 'also': 69,\n",
       " 'economic': 70,\n",
       " 'go': 71,\n",
       " 'hand-in-hand': 72,\n",
       " 'good': 73,\n",
       " 'fortune': 74,\n",
       " 'vikram': 75,\n",
       " 'sarabhai': 76,\n",
       " 'dept': 77,\n",
       " 'space': 78,\n",
       " 'professor': 79,\n",
       " 'satish': 80,\n",
       " 'dhawan': 81,\n",
       " 'succeeded': 82,\n",
       " 'brahm': 83,\n",
       " 'prakash': 84,\n",
       " 'father': 85,\n",
       " 'nuclear': 86,\n",
       " 'material': 87,\n",
       " 'lucky': 88,\n",
       " 'closely': 89,\n",
       " 'consider': 90,\n",
       " 'opportunity': 91,\n",
       " 'four': 92,\n",
       " 'strong': 93,\n",
       " 'stands': 94,\n",
       " 'fifty': 95,\n",
       " 'unless': 96,\n",
       " 'developing': 97,\n",
       " 'milestones': 98,\n",
       " 'among': 99,\n",
       " 'top': 100,\n",
       " 'nations': 101,\n",
       " 'terms': 102,\n",
       " 'gdp': 103,\n",
       " 'percent': 104,\n",
       " 'growth': 105,\n",
       " 'rate': 106,\n",
       " 'areas': 107,\n",
       " 'poverty': 108,\n",
       " 'levels': 109,\n",
       " 'falling': 110,\n",
       " 'achievements': 111,\n",
       " 'globally': 112,\n",
       " 'recognised': 113,\n",
       " 'today': 114,\n",
       " 'lack': 115,\n",
       " 'self-confidence': 116,\n",
       " 'self-reliant': 117,\n",
       " 'self-assured': 118,\n",
       " 'incorrect': 119,\n",
       " 'third': 120,\n",
       " 'stand': 121,\n",
       " 'time': 122}"
      ]
     },
     "execution_count": 77,
     "metadata": {},
     "output_type": "execute_result"
    }
   ],
   "source": [
    "words"
   ]
  },
  {
   "cell_type": "code",
   "execution_count": 81,
   "id": "1c47d92b",
   "metadata": {},
   "outputs": [],
   "source": [
    "# Finding Word Vectors\n",
    "vector = model.wv['war']\n",
    "\n",
    "# Most similar words\n",
    "similar = model.wv.most_similar('india')"
   ]
  },
  {
   "cell_type": "code",
   "execution_count": 79,
   "id": "713ba12e",
   "metadata": {},
   "outputs": [
    {
     "data": {
      "text/plain": [
       "array([-0.00219905, -0.00970885,  0.00929075,  0.00203636, -0.00116388,\n",
       "       -0.00551955, -0.0085126 , -0.00989383,  0.00894091, -0.00250522,\n",
       "        0.00459427, -0.00452481,  0.00995189,  0.00366171,  0.00103129,\n",
       "       -0.00403834,  0.00122027, -0.00265451,  0.00735284,  0.00447542,\n",
       "        0.00099955,  0.0034782 ,  0.00372712, -0.00680036,  0.00893243,\n",
       "        0.00173499, -0.00579935,  0.00866838, -0.00129286,  0.00818304,\n",
       "       -0.0014927 ,  0.00698649,  0.00273452, -0.00436226, -0.00374683,\n",
       "        0.00919046,  0.00159645, -0.00599784,  0.00034776, -0.00195135,\n",
       "        0.00159242, -0.00771525,  0.00738298,  0.00131083,  0.00787099,\n",
       "        0.00445568, -0.00439675,  0.00376054, -0.0006357 , -0.00984484,\n",
       "        0.00825004,  0.00964326,  0.00965426, -0.00379659, -0.00844202,\n",
       "        0.00483581, -0.00765107,  0.00853567,  0.00275977,  0.00560496,\n",
       "        0.00611362,  0.00046455, -0.00209463,  0.000778  ,  0.00983559,\n",
       "       -0.00711718, -0.00155743, -0.00235984,  0.00487084,  0.00645515,\n",
       "       -0.0041403 ,  0.00361816, -0.00447258,  0.00326611,  0.0081738 ,\n",
       "        0.00361967, -0.0045711 , -0.00301938,  0.00787179,  0.00959686,\n",
       "        0.00580789, -0.00326881, -0.00183876, -0.00624998, -0.00429521,\n",
       "        0.00336554, -0.00648911, -0.00661903,  0.00811393,  0.0095074 ,\n",
       "        0.00814451,  0.00150699, -0.00880124, -0.00759764,  0.0015789 ,\n",
       "       -0.00952675, -0.00741688,  0.00203283, -0.00292885, -0.00916266],\n",
       "      dtype=float32)"
      ]
     },
     "execution_count": 79,
     "metadata": {},
     "output_type": "execute_result"
    }
   ],
   "source": [
    "vector"
   ]
  },
  {
   "cell_type": "code",
   "execution_count": 82,
   "id": "0123649f",
   "metadata": {},
   "outputs": [
    {
     "data": {
      "text/plain": [
       "[('military', 0.370004802942276),\n",
       " ('took', 0.2122114896774292),\n",
       " ('greeks', 0.2021765112876892),\n",
       " ('three', 0.19961436092853546),\n",
       " ('prakash', 0.18922129273414612),\n",
       " ('developing', 0.1821625530719757),\n",
       " ('see', 0.17356349527835846),\n",
       " ('protect', 0.17105315625667572),\n",
       " ('must', 0.17062465846538544),\n",
       " ('recognised', 0.16197066009044647)]"
      ]
     },
     "execution_count": 82,
     "metadata": {},
     "output_type": "execute_result"
    }
   ],
   "source": [
    "similar"
   ]
  },
  {
   "cell_type": "code",
   "execution_count": null,
   "id": "76fe3493",
   "metadata": {},
   "outputs": [],
   "source": []
  }
 ],
 "metadata": {
  "kernelspec": {
   "display_name": "Python 3 (ipykernel)",
   "language": "python",
   "name": "python3"
  },
  "language_info": {
   "codemirror_mode": {
    "name": "ipython",
    "version": 3
   },
   "file_extension": ".py",
   "mimetype": "text/x-python",
   "name": "python",
   "nbconvert_exporter": "python",
   "pygments_lexer": "ipython3",
   "version": "3.10.9"
  }
 },
 "nbformat": 4,
 "nbformat_minor": 5
}
